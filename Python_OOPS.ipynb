{
  "nbformat": 4,
  "nbformat_minor": 0,
  "metadata": {
    "colab": {
      "provenance": [],
      "authorship_tag": "ABX9TyNIxokC5LNAYNLkvh5N5a5C",
      "include_colab_link": true
    },
    "kernelspec": {
      "name": "python3",
      "display_name": "Python 3"
    },
    "language_info": {
      "name": "python"
    }
  },
  "cells": [
    {
      "cell_type": "markdown",
      "metadata": {
        "id": "view-in-github",
        "colab_type": "text"
      },
      "source": [
        "<a href=\"https://colab.research.google.com/github/techbrothers3/pythonBasics-DataScience/blob/main/Python_OOPS.ipynb\" target=\"_parent\"><img src=\"https://colab.research.google.com/assets/colab-badge.svg\" alt=\"Open In Colab\"/></a>"
      ]
    },
    {
      "cell_type": "code",
      "execution_count": 9,
      "metadata": {
        "colab": {
          "base_uri": "https://localhost:8080/"
        },
        "id": "C7RXoNMXsMxA",
        "outputId": "9aaec635-ece3-407b-e31f-eea655064323"
      },
      "outputs": [
        {
          "output_type": "stream",
          "name": "stdout",
          "text": [
            "hey i am a person\n",
            "hey i am a person\n",
            "harry is Human Being\n",
            "Harry is a Developer\n",
            "nikita is a HR\n"
          ]
        }
      ],
      "source": [
        "\"\"\"class Employee:\n",
        "  def __init__(self, first, last, pay):\n",
        "    self.first = first\n",
        "    self.last = last\n",
        "    self.pay = pay\n",
        "    self.email = first + '.'+ last + '@gmail.com'\n",
        "\n",
        "  def fullname(self):\n",
        "    return '{} {}'.format(self.first, self.last)\n",
        "\n",
        "emp_1 = Employee('tech', 'brothers3', 50000)\n",
        "emp_2 = Employee('tech', '3brothers', 40000)\n",
        "\n",
        "Employee.fullname(emp_1)\n",
        "emp_2.fullname()\"\"\"\n",
        "\n",
        "class Person:\n",
        "  attr1 = \"Human Being\"\n",
        "  def __init__(self, name, occupation):\n",
        "    print(\"hey i am a person\")\n",
        "    self.name = name\n",
        "    self.occupation = occupation\n",
        "\n",
        "# info method\n",
        "  def info(self):\n",
        "    print(f\"{self.name} is a {self.occupation}\")\n",
        "\n",
        "a = Person(\"Harry\", \"Developer\")\n",
        "b = Person(\"nikita\", \"HR\")\n",
        "\n",
        "# accessing class attributes\n",
        "print(f\"harry is {a.__class__.attr1}\")\n",
        "\n",
        "\n",
        "\n"
      ]
    },
    {
      "cell_type": "markdown",
      "source": [
        "# New Section Inheritance\n",
        "\n",
        "we will create two classes i.e Person(parent class) and Employee child class).\n",
        "The employee class inherits from the parent class\n",
        "\n",
        "\n",
        "\n"
      ],
      "metadata": {
        "id": "y59b1vlp0y96"
      }
    },
    {
      "cell_type": "code",
      "source": [
        "class Person():\n",
        "\n",
        "  def __init__(self, name, idNumber):\n",
        "    self.name = name\n",
        "    self.idNumber = idNumber\n",
        "\n",
        "\n",
        "  def display(self):\n",
        "    print(self.name)\n",
        "    print(self.idNumber)\n",
        "\n",
        "  def details(self):\n",
        "    print(f\"My name is {self.name}\")\n",
        "    print(f\"idNumber is {self.idNumber}\")\n",
        "\n",
        "class Employee(Person):\n",
        "  def __init__(self, name, idNumber, salary, post):\n",
        "    self.salary = salary\n",
        "    self.post = post\n",
        "\n",
        "    Person.__init__(self, name, idNumber)\n",
        "\n",
        "a = Employee(\"muaaz\", 901, 12000, \"intern\")\n",
        "\n",
        "print(a.post)"
      ],
      "metadata": {
        "colab": {
          "base_uri": "https://localhost:8080/"
        },
        "id": "NwePFeM20hbe",
        "outputId": "72bc2674-f803-4deb-8287-205f4783e477"
      },
      "execution_count": 16,
      "outputs": [
        {
          "output_type": "stream",
          "name": "stdout",
          "text": [
            "intern\n"
          ]
        }
      ]
    },
    {
      "cell_type": "code",
      "source": [],
      "metadata": {
        "id": "2EuVKuWr1PnS"
      },
      "execution_count": null,
      "outputs": []
    },
    {
      "cell_type": "markdown",
      "source": [
        "DECORATORS, GETTERS, SETTERS, AND DELETERS\n"
      ],
      "metadata": {
        "id": "MI6g84WH6mCi"
      }
    },
    {
      "cell_type": "code",
      "source": [
        "class Employee:\n",
        "\n",
        "  def __init__(self, first, last):\n",
        "    self.first = first\n",
        "    self.last = last\n",
        "\n",
        "  @property\n",
        "  def fullname(self):\n",
        "    return f\"{self.first} {self.last}\"\n",
        "\n",
        "\n",
        "  @fullname.setter\n",
        "  def fullname(self, name):\n",
        "    first, last = name.split(' ')\n",
        "    self.first = first\n",
        "    self.last = last\n",
        "\n",
        "\n",
        "  @fullname.deleter\n",
        "  def fullname(self):\n",
        "    print('delete name!')\n",
        "    self.first = None\n",
        "    self.last = None\n",
        "\n",
        "  @property\n",
        "  def email(self):\n",
        "    return f\"{self.first}.{self.last}@gmail.com\"\n",
        "\n",
        "emp_1 = Employee(\"muaaz\", \"abdussami\")\n",
        "\n",
        "\n",
        "emp_1.fullname = 'corey schafer'\n",
        "\n",
        "\n",
        "\n",
        "emp_1.first = 'jim'\n",
        "print(emp_1.first)\n",
        "print(emp_1.email)\n",
        "print(emp_1.fullname)\n",
        "\n",
        "del emp_1.fullname\n",
        "\n",
        "print(emp_1.first)\n"
      ],
      "metadata": {
        "colab": {
          "base_uri": "https://localhost:8080/"
        },
        "id": "BSSdEcwk6q3g",
        "outputId": "354ea848-e8dd-4860-f752-ac68c79dc2fe"
      },
      "execution_count": 41,
      "outputs": [
        {
          "output_type": "stream",
          "name": "stdout",
          "text": [
            "jim\n",
            "jim.schafer@gmail.com\n",
            "jim schafer\n",
            "delete name!\n",
            "None\n"
          ]
        }
      ]
    },
    {
      "cell_type": "code",
      "source": [],
      "metadata": {
        "id": "R0KnnEQu62Gd"
      },
      "execution_count": null,
      "outputs": []
    }
  ]
}